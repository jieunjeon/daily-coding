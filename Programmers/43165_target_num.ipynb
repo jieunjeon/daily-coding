{
 "cells": [
  {
   "cell_type": "markdown",
   "source": [
    "# 타겟 넘버\r\n",
    "\r\n",
    "https://programmers.co.kr/learn/courses/30/lessons/43165#\r\n",
    "\r\n",
    "n개의 음이 아닌 정수가 있습니다. 이 수를 적절히 더하거나 빼서 타겟 넘버를 만들려고 합니다. 예를 들어 [1, 1, 1, 1, 1]로 숫자 3을 만들려면 다음 다섯 방법을 쓸 수 있습니다.\r\n",
    "\r\n",
    "-1+1+1+1+1 = 3\r\n",
    "+1-1+1+1+1 = 3\r\n",
    "+1+1-1+1+1 = 3\r\n",
    "+1+1+1-1+1 = 3\r\n",
    "+1+1+1+1-1 = 3   \r\n",
    "\r\n",
    "사용할 수 있는 숫자가 담긴 배열 numbers, 타겟 넘버 target이 매개변수로 주어질 때 숫자를 적절히 더하고 빼서 타겟 넘버를 만드는 방법의 수를 return 하도록 solution 함수를 작성해주세요.\r\n",
    "   \r\n",
    "### 제한사항\r\n",
    "주어지는 숫자의 개수는 2개 이상 20개 이하입니다.\r\n",
    "각 숫자는 1 이상 50 이하인 자연수입니다.\r\n",
    "타겟 넘버는 1 이상 1000 이하인 자연수입니다.\r\n",
    "\r\n",
    "### 입출력 예\r\n",
    "numbers\ttarget\treturn\r\n",
    "[1, 1, 1, 1, 1]\t3\t5"
   ],
   "metadata": {}
  },
  {
   "cell_type": "code",
   "execution_count": 2,
   "source": [
    "def solution(numbers, target):\r\n",
    "    # Time Complexity: O(nlogn)\r\n",
    "    \r\n",
    "    tree = [0]\r\n",
    "    \r\n",
    "    for num in numbers:\r\n",
    "        tree_new = []\r\n",
    "        print(\"new child tree! num:\", num)\r\n",
    "        \r\n",
    "        for node in tree:\r\n",
    "            tree_new.append(node + num)\r\n",
    "            tree_new.append(node - num)\r\n",
    "            print(\"for node in tree..\", tree_new)\r\n",
    "\r\n",
    "        tree = tree_new\r\n",
    "        print(\"for every num..\", tree)\r\n",
    "\r\n",
    "    return tree.count(target)\r\n",
    "solution([1,2,3], 0)"
   ],
   "outputs": [
    {
     "output_type": "stream",
     "name": "stdout",
     "text": [
      "new child tree! num: 1\n",
      "for node in tree.. [1, -1]\n",
      "for every num.. [1, -1]\n",
      "new child tree! num: 2\n",
      "for node in tree.. [3, -1]\n",
      "for node in tree.. [3, -1, 1, -3]\n",
      "for every num.. [3, -1, 1, -3]\n",
      "new child tree! num: 3\n",
      "for node in tree.. [6, 0]\n",
      "for node in tree.. [6, 0, 2, -4]\n",
      "for node in tree.. [6, 0, 2, -4, 4, -2]\n",
      "for node in tree.. [6, 0, 2, -4, 4, -2, 0, -6]\n",
      "for every num.. [6, 0, 2, -4, 4, -2, 0, -6]\n"
     ]
    },
    {
     "output_type": "execute_result",
     "data": {
      "text/plain": [
       "2"
      ]
     },
     "metadata": {},
     "execution_count": 2
    }
   ],
   "metadata": {}
  },
  {
   "cell_type": "markdown",
   "source": [
    "![Description](images/43165.png)\r\n"
   ],
   "metadata": {}
  }
 ],
 "metadata": {
  "orig_nbformat": 4,
  "language_info": {
   "name": "python",
   "version": "3.8.8",
   "mimetype": "text/x-python",
   "codemirror_mode": {
    "name": "ipython",
    "version": 3
   },
   "pygments_lexer": "ipython3",
   "nbconvert_exporter": "python",
   "file_extension": ".py"
  },
  "kernelspec": {
   "name": "python3",
   "display_name": "Python 3.8.8 64-bit ('base': conda)"
  },
  "interpreter": {
   "hash": "58b20b1868fd5ad4e9fbc19f3482ce69a0016c3131b04d868f4f9be299d83053"
  }
 },
 "nbformat": 4,
 "nbformat_minor": 2
}