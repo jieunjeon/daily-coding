{
 "cells": [
  {
   "cell_type": "markdown",
   "source": [
    "# 6081: [기초-종합] 소리 파일 저장용량 계산하기\r\n",
    "https://codeup.kr/problem.php?id=6081\r\n",
    "\r\n",
    "problem description:\r\n",
    "16진수(0, 1, 2, 3, 4, 5, 6, 7, 8, 9, A, B, C, D, E, F)를 배운\r\n",
    "영일이는 16진수끼리 곱하는 16진수 구구단?에 대해서 궁금해졌다.\r\n",
    "\r\n",
    "A, B, C, D, E, F 중 하나가 입력될 때,\r\n",
    "1부터 F까지 곱한 16진수 구구단의 내용을 출력해보자.\r\n",
    "(단, A ~ F 까지만 입력된다.)\r\n",
    "\r\n",
    "예시\r\n",
    "...\r\n",
    "  print('%X'%n, '*%X'%i, '=%X'%(n*i), sep='')\r\n",
    "...\r\n",
    "\r\n",
    "참고\r\n",
    "print('%X'%n)    #n에 저장되어있는 값을 16진수(hexadecimal) 형태로 출력\r\n",
    "작은 따옴표 2개를 사용해서 print(..., sep='') 으로 출력하면, 공백없이 모두 붙여 출력된다.\r\n",
    "작은 따옴표 2개 '' 또는 큰 따옴표 2개 \"\" 는 아무 문자도 없는 빈문자열(empty string)을 의미한다.\r\n",
    "   \r\n",
    "   \r\n",
    "입력\r\n",
    "16진수로 한 자리 수가 입력된다.\r\n",
    "단, A ~ F 까지만 입력된다.\r\n",
    "\r\n",
    "출력\r\n",
    "입력된 16진수에 1~F까지 순서대로 곱한, 16진수 구구단을 줄을 바꿔 출력한다.\r\n",
    "계산 결과도 16진수로 출력해야 한다.\r\n"
   ],
   "metadata": {}
  },
  {
   "cell_type": "code",
   "execution_count": 1,
   "source": [
    "# Time Complextity: O(n)\r\n",
    "\r\n",
    "a = '5'\r\n",
    "hexNum = int(a, 16)\r\n",
    "for i in range(1, 16):\r\n",
    "    # print(\"%X*%X=%X\"%(hexNum, i, hexNum*i))    # not using f-string\r\n",
    "    print(f'{hexNum}*{i}=%X' %(hexNum*i))   # using f-string"
   ],
   "outputs": [
    {
     "output_type": "stream",
     "name": "stdout",
     "text": [
      "5*1=5\n",
      "5*2=A\n",
      "5*3=F\n",
      "5*4=14\n",
      "5*5=19\n",
      "5*6=1E\n",
      "5*7=23\n",
      "5*8=28\n",
      "5*9=2D\n",
      "5*10=32\n",
      "5*11=37\n",
      "5*12=3C\n",
      "5*13=41\n",
      "5*14=46\n",
      "5*15=4B\n"
     ]
    }
   ],
   "metadata": {}
  },
  {
   "cell_type": "markdown",
   "source": [
    "# 6082 [기초-종합] 3 6 9 게임의 왕이 되자\r\n",
    "https://codeup.kr/problem.php?id=6082\r\n",
    "\r\n",
    "problem description\r\n",
    "친구들과 함께 3 6 9 게임을 하던 영일이는 잦은 실수 때문에 계속해서 벌칙을 받게 되었다.\r\n",
    "3 6 9 게임의 왕이 되기 위한 369 마스터 프로그램을 작성해 보자.\r\n",
    "\r\n",
    "** 3 6 9 게임은?\r\n",
    "여러 사람이 순서를 정한 후, 순서대로 수를 부르는 게임이다.\r\n",
    "만약 3, 6, 9 가 들어간 수를 자신이 불러야 하는 상황이라면, 수를 부르는 대신 \"박수(X)\" 를 쳐야 한다.\r\n",
    "33과 같이 3,6,9가 두 번 들어간 수 일때, \"짝짝\"과 같이 박수를 두 번 치는 형태도 있다. \r\n",
    "\r\n",
    "참고 \r\n",
    "...\r\n",
    "for i in range(1, n+1) :\r\n",
    "  if i%10==3 :\r\n",
    "    print(\"X\", end=' ')    #출력 후 공백문자(빈칸, ' ')로 끝냄\r\n",
    "...\r\n",
    "   \r\n",
    "      \r\n",
    "입력\r\n",
    "30 보다 작은 정수 1개가 입력된다.\r\n",
    "(1 ~ 29)\r\n",
    "\r\n",
    "출력\r\n",
    "1 부터 그 수까지 순서대로 공백을 두고 수를 출력하는데,\r\n",
    "3 또는 6 또는 9가 포함 되어있는 수인 경우, 그 수 대신 영문 대문자 X 를 출력한다."
   ],
   "metadata": {}
  },
  {
   "cell_type": "code",
   "execution_count": 20,
   "source": [
    "# Time Complextity: O(n)\r\n",
    "\r\n",
    "a=9\r\n",
    "for i in range(1,a+1):\r\n",
    "    if (i%10==3 or i%10==6 or i%10==9):\r\n",
    "        print('X',end=' ')\r\n",
    "        continue\r\n",
    "    print(i,end=' ')"
   ],
   "outputs": [
    {
     "output_type": "stream",
     "name": "stdout",
     "text": [
      "1 2 X 4 5 X 7 8 X "
     ]
    }
   ],
   "metadata": {}
  },
  {
   "cell_type": "markdown",
   "source": [
    "# 6083 : [기초-종합] 빛 섞어 색 만들기\r\n",
    "https://codeup.kr/problem.php?id=6083\r\n",
    "\r\n",
    "problem description:\r\n",
    "빨강(red), 초록(green), 파랑(blue) 빛을 섞어 여러 가지 다른 색 빛을 만들어 내려고 한다.\r\n",
    "\r\n",
    "빨강(r), 초록(g), 파랑(b) 각 빛의 가짓수가 주어질 때,\r\n",
    "주어진 rgb 빛들을 섞어 만들 수 있는 모든 경우의 조합(r g b)과 만들 수 있는 색의 가짓 수를 계산해보자.  \r\n",
    "\r\n",
    "**모니터, 스마트폰과 같은 디스플레이에서 각 픽셀의 색을 만들어내기 위해서 r, g, b 색을 조합할 수 있다.\r\n",
    "**픽셀(pixel)은 그림(picture)을 구성하는 셀(cell)에서 이름이 만들어졌다.   \r\n",
    "   \r\n",
    "입력\r\n",
    "빨녹파(r, g, b) 각 빛의 가짓수가 공백을 두고 입력된다.\r\n",
    "예를 들어, 3 3 3 은 빨녹파 빛에 대해서 각각 0~2까지 3가지 색이 있음을 의미한다.\r\n",
    "0 <= r,g,b <= 127\r\n",
    "\r\n",
    "출력\r\n",
    "만들 수 있는 rgb 색의 정보를 오름차순(계단을 올라가는 순, 12345... abcde..., 가나다라마...)으로\r\n",
    "줄을 바꿔 모두 출력하고, 마지막에 그 개수를 출력한다."
   ],
   "metadata": {}
  },
  {
   "cell_type": "code",
   "execution_count": 12,
   "source": [
    "# Time Complextity: O(n*m*l)\r\n",
    "\r\n",
    "r, g, b = map(int, [2, 2, 2])\r\n",
    "answer = 0\r\n",
    "for i in range(r):\r\n",
    "  for j in range(g):\r\n",
    "    for k in range(b):\r\n",
    "      print(f'{i} {j} {k}')\r\n",
    "      answer+=1\r\n",
    "print(answer)"
   ],
   "outputs": [
    {
     "output_type": "stream",
     "name": "stdout",
     "text": [
      "0 0 0\n",
      "0 0 1\n",
      "0 1 0\n",
      "0 1 1\n",
      "1 0 0\n",
      "1 0 1\n",
      "1 1 0\n",
      "1 1 1\n",
      "8\n"
     ]
    }
   ],
   "metadata": {}
  },
  {
   "cell_type": "markdown",
   "source": [
    "# 6084: [기초-종합] 소리 파일 저장용량 계산하기\r\n",
    "https://codeup.kr/problem.php?id=6084\r\n",
    "\r\n",
    "   \r\n",
    "problem description:\r\n",
    "소리가 컴퓨터에 저장될 때에는 디지털 데이터화 되어 저장된다.\r\n",
    "\r\n",
    "마이크를 통해 1초에 적게는 수십 번, 많게는 수만 번 소리의 강약을 체크하고,\r\n",
    "한 번씩 체크할 때 마다 그 값을 정수값으로 바꾸어 저장하는 방식으로 소리를 파일로 저장할 수 있다.\r\n",
    "\r\n",
    "값을 저장할 때에는 비트를 사용하는 정도에 따라 세세한 녹음 정도를 결정할 수 있고,\r\n",
    "좌우(스테레오) 채널로 저장하면 2배… 5.1채널이면 6배의 저장공간이 필요하고,\r\n",
    "녹음 시간이 길면 그 만큼 더 많은 저장공간이 필요하다.\r\n",
    "\r\n",
    "1초 동안 마이크로 소리강약을 체크하는 횟수를 h\r\n",
    "(헤르쯔, Hz 는 1초에 몇 번? 체크하는가를 의미한다.)\r\n",
    "\r\n",
    "한 번 체크한 값을 저장할 때 사용하는 비트수를 b\r\n",
    "(2비트를 사용하면 0 또는 1 두 가지, 16비트를 사용하면 65536가지..)\r\n",
    "\r\n",
    "좌우 등 소리를 저장할 트랙 개수인 채널 개수를 c\r\n",
    "(모노는 1개, 스테레오는 2개의 트랙으로 저장함을 의미한다.)\r\n",
    "\r\n",
    "녹음할 시간(초) s가 주어질 때,\r\n",
    "\r\n",
    "필요한 저장 용량을 계산하는 프로그램을 작성해보자.\r\n",
    "\r\n",
    "실제로, 일반적인 CD 음질(44.1KHz, 16bit, 스테레오)로 1초 동안 저장하려면\r\n",
    "44100 * 16 * 2 * 1 bit의 저장공간이 필요한데,\r\n",
    "44100*16*2*1/8/1024/1024 로 계산하면 약 0.168 MB 정도가 필요하다.\r\n",
    "\r\n",
    "이렇게 녹음하는 방식을 PCM(Pulse Code Modulation) 방법이라고 하는데,\r\n",
    "압축하지 않은 순수한(raw) 소리 데이터 파일은 대표적으로 *.wav 가 있다.\r\n",
    "\r\n",
    "**\r\n",
    "      8 bit(비트)           = 1byte(바이트)       # 8bit=1Byte\r\n",
    "1024 Byte(210 byte) = 1KB(킬로 바이트)  # 1024Byte=1KB\r\n",
    "1024 KB(210 KB)      = 1MB(메가 바이트)\r\n",
    "1024 MB(210 MB)     = 1GB(기가 바이트)\r\n",
    "1024 GB(210 GB)      = 1TB(테라 바이트)\r\n",
    "   \r\n",
    "   \r\n",
    "입력\r\n",
    "h, b, c, s 가 공백을 두고 입력된다.\r\n",
    "h는 48,000이하, b는 32이하(단, 8의배수), c는 5이하, s는 6,000이하의 자연수이다.   \r\n",
    "   \r\n",
    "출력\r\n",
    "필요한 저장 공간을 MB 단위로 바꾸어 출력한다.\r\n",
    "단, 소수점 첫째 자리까지의 정확도로 출력하고 MB를 공백을 두고 출력한다.\r\n"
   ],
   "metadata": {}
  },
  {
   "cell_type": "code",
   "execution_count": 16,
   "source": [
    "# Time Complextity: O(n*m*l)\r\n",
    "def calFileSize():\r\n",
    "    h, b, c, s = map(int, [44100, 16, 2, 10])\r\n",
    "\r\n",
    "    if h > 48000 or b > 32 or  c > 5 or s > 6000:\r\n",
    "        return\r\n",
    "    print(f'%.1f MB' %(h*b*c*s/8/1024/1024))"
   ],
   "outputs": [
    {
     "output_type": "stream",
     "name": "stdout",
     "text": [
      "1.7 MB\n"
     ]
    }
   ],
   "metadata": {}
  }
 ],
 "metadata": {
  "interpreter": {
   "hash": "58b20b1868fd5ad4e9fbc19f3482ce69a0016c3131b04d868f4f9be299d83053"
  },
  "kernelspec": {
   "display_name": "Python 3.8.8 64-bit (conda)",
   "name": "python3"
  },
  "language_info": {
   "codemirror_mode": {
    "name": "ipython",
    "version": 3
   },
   "file_extension": ".py",
   "mimetype": "text/x-python",
   "name": "python",
   "nbconvert_exporter": "python",
   "pygments_lexer": "ipython3",
   "version": "3.8.8"
  },
  "orig_nbformat": 4
 },
 "nbformat": 4,
 "nbformat_minor": 2
}