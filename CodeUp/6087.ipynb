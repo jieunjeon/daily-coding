{
 "cells": [
  {
   "cell_type": "markdown",
   "source": [
    "# 6087  : [기초-종합] 3의 배수는 통과\r\n",
    "\r\n",
    "https://codeup.kr/problem.php?id=6087\r\n",
    "\r\n",
    "1부터 입력한 정수까지 1씩 증가시켜 출력하는 프로그램을 작성하되,\r\n",
    "3의 배수인 경우는 출력하지 않도록 만들어보자.\r\n",
    "\r\n",
    "예를 들면,\r\n",
    "1 2 4 5 7 8 10 11 13 14 ...\r\n",
    "와 같이 출력하는 것이다.\r\n",
    "\r\n",
    "예시\r\n",
    "...\r\n",
    "for i in range(1, n+1) :\r\n",
    "  if i%2==0 :\r\n",
    "    continue            #다음 반복 단계로 넘어간다.\r\n",
    "  print(i, end=' ')    #i가 짝수가 아닐 때만 실행된다.\r\n",
    "...\r\n",
    "위 코드는 홀 수만 출력하는 예시이다.\r\n",
    "\r\n",
    "참고\r\n",
    "조건문이나 반복문의 코드블록 안에서 continue 가 실행되면,\r\n",
    "반복 블록 안에 있는 나머지 부분을 실행하지 않고, 다음 반복 단계로 넘어간다.\r\n",
    "즉, 반복 블록의 나머지 부분은 실행되지 않고, 다음 단계의 반복을 계속(continue)하는 것이다."
   ],
   "metadata": {}
  },
  {
   "cell_type": "code",
   "execution_count": 11,
   "source": [
    "def mod3(n):\r\n",
    "    for i in range(1, n+1) : \r\n",
    "        if i%3==0 : \r\n",
    "            continue \r\n",
    "        print(i, end=' ')\r\n",
    "        \r\n",
    "mod3(10)"
   ],
   "outputs": [
    {
     "output_type": "stream",
     "name": "stdout",
     "text": [
      "1 2 4 5 7 8 10 "
     ]
    }
   ],
   "metadata": {}
  }
 ],
 "metadata": {
  "orig_nbformat": 4,
  "language_info": {
   "name": "python"
  }
 },
 "nbformat": 4,
 "nbformat_minor": 2
}